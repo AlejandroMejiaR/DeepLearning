{
 "cells": [
  {
   "cell_type": "markdown",
   "metadata": {},
   "source": [
    "# **DEEP LEARNING**\n",
    "\n",
    "**UNIVERSIDAD MILITAR NUEVA GRANADA**\n",
    "\n",
    "**Análisis del Dataset de Predios - Municipio de Boyacá**\n",
    "\n",
    "Alejandro Mejia Rojas\n",
    "\n",
    "- **IMPORTANTE**: Subir el dataset a la carpeta content, cambiarle el nombre por 'data.csv' y la ruta a archivo_csv = 'data.csv'"
   ]
  },
  {
   "cell_type": "markdown",
   "metadata": {},
   "source": [
    "## Importación de Librerías"
   ]
  },
  {
   "cell_type": "code",
   "execution_count": 1,
   "metadata": {},
   "outputs": [],
   "source": [
    "import numpy as np\n",
    "import pandas as pd"
   ]
  },
  {
   "cell_type": "markdown",
   "metadata": {},
   "source": [
    "## Lectura del dataset"
   ]
  },
  {
   "cell_type": "code",
   "execution_count": 2,
   "metadata": {},
   "outputs": [
    {
     "data": {
      "text/html": [
       "<div>\n",
       "<style scoped>\n",
       "    .dataframe tbody tr th:only-of-type {\n",
       "        vertical-align: middle;\n",
       "    }\n",
       "\n",
       "    .dataframe tbody tr th {\n",
       "        vertical-align: top;\n",
       "    }\n",
       "\n",
       "    .dataframe thead th {\n",
       "        text-align: right;\n",
       "    }\n",
       "</style>\n",
       "<table border=\"1\" class=\"dataframe\">\n",
       "  <thead>\n",
       "    <tr style=\"text-align: right;\">\n",
       "      <th></th>\n",
       "      <th>Codigo</th>\n",
       "      <th>Vereda</th>\n",
       "      <th>Dirección</th>\n",
       "      <th>Avaluo</th>\n",
       "      <th>Predial</th>\n",
       "    </tr>\n",
       "  </thead>\n",
       "  <tbody>\n",
       "    <tr>\n",
       "      <th>0</th>\n",
       "      <td>10001000</td>\n",
       "      <td>1</td>\n",
       "      <td>SAN ISIDRO VDA HUERTAS CHICA</td>\n",
       "      <td>6810000</td>\n",
       "      <td>151040000000000000000000000000</td>\n",
       "    </tr>\n",
       "    <tr>\n",
       "      <th>1</th>\n",
       "      <td>10002000</td>\n",
       "      <td>1</td>\n",
       "      <td>LA ESPERANZA VDA HUERTA CHICA</td>\n",
       "      <td>9200000</td>\n",
       "      <td>151040000000000000000000000000</td>\n",
       "    </tr>\n",
       "    <tr>\n",
       "      <th>2</th>\n",
       "      <td>10003000</td>\n",
       "      <td>1</td>\n",
       "      <td>LA VEGA SANTA CATALINA VDA HUERTA</td>\n",
       "      <td>8011000</td>\n",
       "      <td>151040000000000000000000000000</td>\n",
       "    </tr>\n",
       "    <tr>\n",
       "      <th>3</th>\n",
       "      <td>10003000</td>\n",
       "      <td>1</td>\n",
       "      <td>LA VEGA SANTA CATALINA VDA HUERTA</td>\n",
       "      <td>8011000</td>\n",
       "      <td>151040000000000000000000000000</td>\n",
       "    </tr>\n",
       "    <tr>\n",
       "      <th>4</th>\n",
       "      <td>10003000</td>\n",
       "      <td>1</td>\n",
       "      <td>LA VEGA SANTA CATALINA VDA HUERTA</td>\n",
       "      <td>8011000</td>\n",
       "      <td>151040000000000000000000000000</td>\n",
       "    </tr>\n",
       "  </tbody>\n",
       "</table>\n",
       "</div>"
      ],
      "text/plain": [
       "     Codigo  Vereda                          Dirección   Avaluo  \\\n",
       "0  10001000       1       SAN ISIDRO VDA HUERTAS CHICA  6810000   \n",
       "1  10002000       1      LA ESPERANZA VDA HUERTA CHICA  9200000   \n",
       "2  10003000       1  LA VEGA SANTA CATALINA VDA HUERTA  8011000   \n",
       "3  10003000       1  LA VEGA SANTA CATALINA VDA HUERTA  8011000   \n",
       "4  10003000       1  LA VEGA SANTA CATALINA VDA HUERTA  8011000   \n",
       "\n",
       "                          Predial  \n",
       "0  151040000000000000000000000000  \n",
       "1  151040000000000000000000000000  \n",
       "2  151040000000000000000000000000  \n",
       "3  151040000000000000000000000000  \n",
       "4  151040000000000000000000000000  "
      ]
     },
     "execution_count": 2,
     "metadata": {},
     "output_type": "execute_result"
    }
   ],
   "source": [
    "# Guardar la ruta del archivo.csv \n",
    "archivo_csv = 'attachments/data.csv'\n",
    "\n",
    "# Cargar el dataset en un DataFrame\n",
    "df = pd.read_csv(archivo_csv)\n",
    "\n",
    "# Mostrar las primeras 5 filas del DataFrame\n",
    "df.head()\n"
   ]
  },
  {
   "cell_type": "markdown",
   "metadata": {},
   "source": [
    "## Limpieza del dataset"
   ]
  },
  {
   "cell_type": "markdown",
   "metadata": {},
   "source": [
    "### Eliminar filas con valores nulos"
   ]
  },
  {
   "cell_type": "code",
   "execution_count": 3,
   "metadata": {},
   "outputs": [
    {
     "name": "stdout",
     "output_type": "stream",
     "text": [
      "<class 'pandas.core.frame.DataFrame'>\n",
      "RangeIndex: 8631 entries, 0 to 8630\n",
      "Data columns (total 5 columns):\n",
      " #   Column     Non-Null Count  Dtype \n",
      "---  ------     --------------  ----- \n",
      " 0   Codigo     8631 non-null   int64 \n",
      " 1   Vereda     8631 non-null   int64 \n",
      " 2   Dirección  8631 non-null   object\n",
      " 3   Avaluo     8631 non-null   int64 \n",
      " 4   Predial    8631 non-null   object\n",
      "dtypes: int64(3), object(2)\n",
      "memory usage: 337.3+ KB\n"
     ]
    }
   ],
   "source": [
    "df_limpio = df.dropna()\n",
    "\n",
    "# Mostrar información del DataFrame limpio para verificar\n",
    "df_limpio.info()"
   ]
  },
  {
   "cell_type": "markdown",
   "metadata": {},
   "source": [
    "### Eliminacion o descarte de columnas irrelevantes"
   ]
  },
  {
   "cell_type": "code",
   "execution_count": 4,
   "metadata": {},
   "outputs": [
    {
     "name": "stdout",
     "output_type": "stream",
     "text": [
      "<class 'pandas.core.frame.DataFrame'>\n",
      "RangeIndex: 8631 entries, 0 to 8630\n",
      "Data columns (total 4 columns):\n",
      " #   Column   Non-Null Count  Dtype \n",
      "---  ------   --------------  ----- \n",
      " 0   Codigo   8631 non-null   int64 \n",
      " 1   Vereda   8631 non-null   int64 \n",
      " 2   Avaluo   8631 non-null   int64 \n",
      " 3   Predial  8631 non-null   object\n",
      "dtypes: int64(3), object(1)\n",
      "memory usage: 269.8+ KB\n"
     ]
    }
   ],
   "source": [
    "#Seleccionar las columnas a eliminar por nombre\n",
    "columnas_irrelevantes = ['Dirección'] \n",
    "df_limpio = df_limpio.drop(columns=columnas_irrelevantes)\n",
    "\n",
    "# Mostrar información del DataFrame limpio para verificar\n",
    "df_limpio.info()"
   ]
  },
  {
   "cell_type": "markdown",
   "metadata": {},
   "source": [
    "### Convertir el tipo de dato de una columna"
   ]
  },
  {
   "cell_type": "code",
   "execution_count": 5,
   "metadata": {},
   "outputs": [
    {
     "name": "stdout",
     "output_type": "stream",
     "text": [
      "<class 'pandas.core.frame.DataFrame'>\n",
      "RangeIndex: 8631 entries, 0 to 8630\n",
      "Data columns (total 4 columns):\n",
      " #   Column   Non-Null Count  Dtype  \n",
      "---  ------   --------------  -----  \n",
      " 0   Codigo   8631 non-null   int64  \n",
      " 1   Vereda   8631 non-null   int64  \n",
      " 2   Avaluo   8631 non-null   int64  \n",
      " 3   Predial  8631 non-null   float64\n",
      "dtypes: float64(1), int64(3)\n",
      "memory usage: 269.8 KB\n"
     ]
    },
    {
     "data": {
      "text/html": [
       "<div>\n",
       "<style scoped>\n",
       "    .dataframe tbody tr th:only-of-type {\n",
       "        vertical-align: middle;\n",
       "    }\n",
       "\n",
       "    .dataframe tbody tr th {\n",
       "        vertical-align: top;\n",
       "    }\n",
       "\n",
       "    .dataframe thead th {\n",
       "        text-align: right;\n",
       "    }\n",
       "</style>\n",
       "<table border=\"1\" class=\"dataframe\">\n",
       "  <thead>\n",
       "    <tr style=\"text-align: right;\">\n",
       "      <th></th>\n",
       "      <th>Codigo</th>\n",
       "      <th>Vereda</th>\n",
       "      <th>Avaluo</th>\n",
       "      <th>Predial</th>\n",
       "    </tr>\n",
       "  </thead>\n",
       "  <tbody>\n",
       "    <tr>\n",
       "      <th>0</th>\n",
       "      <td>10001000</td>\n",
       "      <td>1</td>\n",
       "      <td>6810000</td>\n",
       "      <td>0.0</td>\n",
       "    </tr>\n",
       "    <tr>\n",
       "      <th>1</th>\n",
       "      <td>10002000</td>\n",
       "      <td>1</td>\n",
       "      <td>9200000</td>\n",
       "      <td>0.0</td>\n",
       "    </tr>\n",
       "    <tr>\n",
       "      <th>2</th>\n",
       "      <td>10003000</td>\n",
       "      <td>1</td>\n",
       "      <td>8011000</td>\n",
       "      <td>0.0</td>\n",
       "    </tr>\n",
       "    <tr>\n",
       "      <th>3</th>\n",
       "      <td>10003000</td>\n",
       "      <td>1</td>\n",
       "      <td>8011000</td>\n",
       "      <td>0.0</td>\n",
       "    </tr>\n",
       "    <tr>\n",
       "      <th>4</th>\n",
       "      <td>10003000</td>\n",
       "      <td>1</td>\n",
       "      <td>8011000</td>\n",
       "      <td>0.0</td>\n",
       "    </tr>\n",
       "  </tbody>\n",
       "</table>\n",
       "</div>"
      ],
      "text/plain": [
       "     Codigo  Vereda   Avaluo  Predial\n",
       "0  10001000       1  6810000      0.0\n",
       "1  10002000       1  9200000      0.0\n",
       "2  10003000       1  8011000      0.0\n",
       "3  10003000       1  8011000      0.0\n",
       "4  10003000       1  8011000      0.0"
      ]
     },
     "execution_count": 5,
     "metadata": {},
     "output_type": "execute_result"
    }
   ],
   "source": [
    "\n",
    "# Convertir la columna de texto a numérico, manejando errores(si no es posible convertirlos les asigna un valor de NaN)\n",
    "df_limpio['Predial'] = pd.to_numeric(df_limpio['Predial'], errors='coerce')\n",
    "\n",
    "# Especificar el tipo de dato float para el calculo posterior del impuesto predial\n",
    "df_limpio['Predial'] = df_limpio['Predial'].astype(float)\n",
    "\n",
    "# Establecer los datos en 0\n",
    "df_limpio['Predial'] = 0.0\n",
    "\n",
    "# Mostrar información del DataFrame limpio para verificar\n",
    "df_limpio.info()\n",
    "df_limpio.head()"
   ]
  },
  {
   "cell_type": "markdown",
   "metadata": {},
   "source": [
    "### calcular el impuesto predial en la columna predial"
   ]
  },
  {
   "cell_type": "code",
   "execution_count": 6,
   "metadata": {},
   "outputs": [
    {
     "name": "stdout",
     "output_type": "stream",
     "text": [
      "<class 'pandas.core.frame.DataFrame'>\n",
      "RangeIndex: 8631 entries, 0 to 8630\n",
      "Data columns (total 4 columns):\n",
      " #   Column   Non-Null Count  Dtype  \n",
      "---  ------   --------------  -----  \n",
      " 0   Codigo   8631 non-null   int64  \n",
      " 1   Vereda   8631 non-null   int64  \n",
      " 2   Avaluo   8631 non-null   int64  \n",
      " 3   Predial  8631 non-null   float64\n",
      "dtypes: float64(1), int64(3)\n",
      "memory usage: 269.8 KB\n"
     ]
    },
    {
     "data": {
      "text/html": [
       "<div>\n",
       "<style scoped>\n",
       "    .dataframe tbody tr th:only-of-type {\n",
       "        vertical-align: middle;\n",
       "    }\n",
       "\n",
       "    .dataframe tbody tr th {\n",
       "        vertical-align: top;\n",
       "    }\n",
       "\n",
       "    .dataframe thead th {\n",
       "        text-align: right;\n",
       "    }\n",
       "</style>\n",
       "<table border=\"1\" class=\"dataframe\">\n",
       "  <thead>\n",
       "    <tr style=\"text-align: right;\">\n",
       "      <th></th>\n",
       "      <th>Codigo</th>\n",
       "      <th>Vereda</th>\n",
       "      <th>Avaluo</th>\n",
       "      <th>Predial</th>\n",
       "    </tr>\n",
       "  </thead>\n",
       "  <tbody>\n",
       "    <tr>\n",
       "      <th>0</th>\n",
       "      <td>10001000</td>\n",
       "      <td>1</td>\n",
       "      <td>6810000</td>\n",
       "      <td>34050.0</td>\n",
       "    </tr>\n",
       "    <tr>\n",
       "      <th>1</th>\n",
       "      <td>10002000</td>\n",
       "      <td>1</td>\n",
       "      <td>9200000</td>\n",
       "      <td>46000.0</td>\n",
       "    </tr>\n",
       "    <tr>\n",
       "      <th>2</th>\n",
       "      <td>10003000</td>\n",
       "      <td>1</td>\n",
       "      <td>8011000</td>\n",
       "      <td>40055.0</td>\n",
       "    </tr>\n",
       "    <tr>\n",
       "      <th>3</th>\n",
       "      <td>10003000</td>\n",
       "      <td>1</td>\n",
       "      <td>8011000</td>\n",
       "      <td>40055.0</td>\n",
       "    </tr>\n",
       "    <tr>\n",
       "      <th>4</th>\n",
       "      <td>10003000</td>\n",
       "      <td>1</td>\n",
       "      <td>8011000</td>\n",
       "      <td>40055.0</td>\n",
       "    </tr>\n",
       "  </tbody>\n",
       "</table>\n",
       "</div>"
      ],
      "text/plain": [
       "     Codigo  Vereda   Avaluo  Predial\n",
       "0  10001000       1  6810000  34050.0\n",
       "1  10002000       1  9200000  46000.0\n",
       "2  10003000       1  8011000  40055.0\n",
       "3  10003000       1  8011000  40055.0\n",
       "4  10003000       1  8011000  40055.0"
      ]
     },
     "execution_count": 6,
     "metadata": {},
     "output_type": "execute_result"
    }
   ],
   "source": [
    "df_limpio['Predial'] = df_limpio['Avaluo'] * 0.005\n",
    "\n",
    "# Mostrar las primeras filas del DataFrame para verificar el cálculo\n",
    "df_limpio.info()\n",
    "df_limpio.head()\n"
   ]
  },
  {
   "cell_type": "markdown",
   "metadata": {},
   "source": [
    "## Exportar dataframe procesado"
   ]
  },
  {
   "cell_type": "code",
   "execution_count": 7,
   "metadata": {},
   "outputs": [],
   "source": [
    "# Definir la ruta de salida\n",
    "archivo_salida = 'attachments/data_proccesed.csv'  \n",
    "\n",
    "# Definir a que formato exportar el dataframe\n",
    "df_limpio.to_csv(archivo_salida, index=False)"
   ]
  }
 ],
 "metadata": {
  "kernelspec": {
   "display_name": "Python 3",
   "language": "python",
   "name": "python3"
  },
  "language_info": {
   "codemirror_mode": {
    "name": "ipython",
    "version": 3
   },
   "file_extension": ".py",
   "mimetype": "text/x-python",
   "name": "python",
   "nbconvert_exporter": "python",
   "pygments_lexer": "ipython3",
   "version": "3.12.1"
  }
 },
 "nbformat": 4,
 "nbformat_minor": 2
}
